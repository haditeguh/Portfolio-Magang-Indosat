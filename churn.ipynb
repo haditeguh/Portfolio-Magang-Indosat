{
 "cells": [
  {
   "cell_type": "markdown",
   "id": "3c0af931-f1ab-49dc-b3b3-f610c3445d75",
   "metadata": {},
   "source": [
    "## Import Library + Load Data"
   ]
  },
  {
   "cell_type": "code",
   "execution_count": 12,
   "id": "3620b608-299f-44f3-98c4-ab7a0ed12561",
   "metadata": {},
   "outputs": [],
   "source": [
    "import pandas as pd\n",
    "import matplotlib.pyplot as plt\n",
    "import seaborn as sns"
   ]
  },
  {
   "cell_type": "code",
   "execution_count": 13,
   "id": "f1601ee6",
   "metadata": {},
   "outputs": [],
   "source": [
    "df = pd.read_csv('data_pelanggan_indosat.csv')"
   ]
  },
  {
   "cell_type": "code",
   "execution_count": 14,
   "id": "38c81eaa-e06a-4056-b293-f1e3e1c3d54e",
   "metadata": {},
   "outputs": [
    {
     "data": {
      "text/html": [
       "<div>\n",
       "<style scoped>\n",
       "    .dataframe tbody tr th:only-of-type {\n",
       "        vertical-align: middle;\n",
       "    }\n",
       "\n",
       "    .dataframe tbody tr th {\n",
       "        vertical-align: top;\n",
       "    }\n",
       "\n",
       "    .dataframe thead th {\n",
       "        text-align: right;\n",
       "    }\n",
       "</style>\n",
       "<table border=\"1\" class=\"dataframe\">\n",
       "  <thead>\n",
       "    <tr style=\"text-align: right;\">\n",
       "      <th></th>\n",
       "      <th>Nama</th>\n",
       "      <th>No_HP</th>\n",
       "      <th>Kota</th>\n",
       "      <th>Paket</th>\n",
       "      <th>Tgl_beli</th>\n",
       "      <th>Durasi_Bulan</th>\n",
       "      <th>Frekuensi_Topup</th>\n",
       "      <th>Kuota_Bulan_GB</th>\n",
       "    </tr>\n",
       "  </thead>\n",
       "  <tbody>\n",
       "    <tr>\n",
       "      <th>0</th>\n",
       "      <td>Balidin Dongoran, S.T.</td>\n",
       "      <td>85799239640</td>\n",
       "      <td>Surabaya</td>\n",
       "      <td>Freedom Combo</td>\n",
       "      <td>2024-10-08</td>\n",
       "      <td>9</td>\n",
       "      <td>5</td>\n",
       "      <td>16</td>\n",
       "    </tr>\n",
       "    <tr>\n",
       "      <th>1</th>\n",
       "      <td>Okto Jailani</td>\n",
       "      <td>81478074443</td>\n",
       "      <td>Jakarta</td>\n",
       "      <td>Freedom Combo</td>\n",
       "      <td>2025-03-15</td>\n",
       "      <td>4</td>\n",
       "      <td>1</td>\n",
       "      <td>7</td>\n",
       "    </tr>\n",
       "    <tr>\n",
       "      <th>2</th>\n",
       "      <td>R. Lantar Anggraini</td>\n",
       "      <td>81462526817</td>\n",
       "      <td>Medan</td>\n",
       "      <td>Freedom Combo</td>\n",
       "      <td>2024-07-22</td>\n",
       "      <td>12</td>\n",
       "      <td>2</td>\n",
       "      <td>20</td>\n",
       "    </tr>\n",
       "    <tr>\n",
       "      <th>3</th>\n",
       "      <td>Darimin Pradipta</td>\n",
       "      <td>81443713796</td>\n",
       "      <td>Semarang</td>\n",
       "      <td>Unlimited 2GB</td>\n",
       "      <td>2025-01-11</td>\n",
       "      <td>2</td>\n",
       "      <td>3</td>\n",
       "      <td>5</td>\n",
       "    </tr>\n",
       "    <tr>\n",
       "      <th>4</th>\n",
       "      <td>Kanda Napitupulu</td>\n",
       "      <td>85669303428</td>\n",
       "      <td>Surabaya</td>\n",
       "      <td>Yellow</td>\n",
       "      <td>2025-03-30</td>\n",
       "      <td>12</td>\n",
       "      <td>1</td>\n",
       "      <td>1</td>\n",
       "    </tr>\n",
       "  </tbody>\n",
       "</table>\n",
       "</div>"
      ],
      "text/plain": [
       "                     Nama        No_HP      Kota          Paket    Tgl_beli  \\\n",
       "0  Balidin Dongoran, S.T.  85799239640  Surabaya  Freedom Combo  2024-10-08   \n",
       "1            Okto Jailani  81478074443   Jakarta  Freedom Combo  2025-03-15   \n",
       "2     R. Lantar Anggraini  81462526817     Medan  Freedom Combo  2024-07-22   \n",
       "3        Darimin Pradipta  81443713796  Semarang  Unlimited 2GB  2025-01-11   \n",
       "4        Kanda Napitupulu  85669303428  Surabaya         Yellow  2025-03-30   \n",
       "\n",
       "   Durasi_Bulan  Frekuensi_Topup  Kuota_Bulan_GB  \n",
       "0             9                5              16  \n",
       "1             4                1               7  \n",
       "2            12                2              20  \n",
       "3             2                3               5  \n",
       "4            12                1               1  "
      ]
     },
     "execution_count": 14,
     "metadata": {},
     "output_type": "execute_result"
    }
   ],
   "source": [
    "df.head()"
   ]
  },
  {
   "cell_type": "markdown",
   "id": "3e76e7a0-8864-4885-8e31-7af8f1b5e6cb",
   "metadata": {},
   "source": [
    "## Hitung Churn Rate Customer"
   ]
  },
  {
   "cell_type": "code",
   "execution_count": 16,
   "id": "232d63be",
   "metadata": {},
   "outputs": [
    {
     "name": "stdout",
     "output_type": "stream",
     "text": [
      "Hasil Persentase Churn Rate Customer: 22.50%\n"
     ]
    }
   ],
   "source": [
    "# mengetahui churn rate\n",
    "# Frekuensi_Topup ≤ 1 dalam 3+ bulan → dianggap churn\n",
    "df['Churn'] = ((df['Frekuensi_Topup'] <= 1) & (df['Durasi_Bulan'] >=\n",
    "3))\n",
    "# hitung churn\n",
    "churn_rate = df['Churn'].sum() / len(df) * 100\n",
    "print(f'Hasil Persentase Churn Rate Customer: {churn_rate:.2f}%')"
   ]
  },
  {
   "cell_type": "markdown",
   "id": "8da2a7f2-f08c-4d17-b342-a8f5eebd0c39",
   "metadata": {},
   "source": [
    "## Tampilkan Dalam Grafik"
   ]
  },
  {
   "cell_type": "code",
   "execution_count": 20,
   "id": "59440306-8dad-425b-8221-a69f19381cbc",
   "metadata": {},
   "outputs": [
    {
     "name": "stderr",
     "output_type": "stream",
     "text": [
      "/tmp/ipykernel_552506/2240223363.py:4: FutureWarning: Series.__getitem__ treating keys as positions is deprecated. In a future version, integer keys will always be treated as labels (consistent with DataFrame behavior). To access a value by position, use `ser.iloc[pos]`\n",
      "  sizes = [churn_counts[0], churn_counts[1]]\n"
     ]
    },
    {
     "data": {
      "text/plain": [
       "(np.float64(-1.0999999318335567),\n",
       " np.float64(1.0999999967539789),\n",
       " np.float64(-1.0999998974046947),\n",
       " np.float64(1.0999999790110455))"
      ]
     },
     "execution_count": 20,
     "metadata": {},
     "output_type": "execute_result"
    },
    {
     "data": {
      "image/png": "[encoded data removed]",
      "text/plain": [
       "<Figure size 600x600 with 1 Axes>"
      ]
     },
     "metadata": {},
     "output_type": "display_data"
    }
   ],
   "source": [
    "# Buat pie chart churn vs aktif\n",
    "churn_counts = df['Churn'].value_counts()\n",
    "labels = ['User Aktif', 'User Churn']\n",
    "sizes = [churn_counts[0], churn_counts[1]]\n",
    "colors = ['#FFD500', '#ED1C24']\n",
    "plt.figure(figsize=(6, 6))\n",
    "plt.pie(sizes, labels=labels, autopct='%1.1f%%',\n",
    "colors=colors)\n",
    "plt.title('Distribusi Churn vs Aktif Pelanggan Indosat')\n",
    "plt.axis('equal')"
   ]
  },
  {
   "cell_type": "code",
   "execution_count": null,
   "id": "7e1070e3-c63d-480a-9de5-82b881a2bc08",
   "metadata": {},
   "outputs": [],
   "source": []
  }
 ],
 "metadata": {
  "kernelspec": {
   "display_name": "Python 3 (ipykernel)",
   "language": "python",
   "name": "python3"
  },
  "language_info": {
   "codemirror_mode": {
    "name": "ipython",
    "version": 3
   },
   "file_extension": ".py",
   "mimetype": "text/x-python",
   "name": "python",
   "nbconvert_exporter": "python",
   "pygments_lexer": "ipython3",
   "version": "3.12.3"
  }
 },
 "nbformat": 4,
 "nbformat_minor": 5
}
