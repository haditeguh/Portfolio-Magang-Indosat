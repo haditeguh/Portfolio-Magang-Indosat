{
 "cells": [
  {
   "cell_type": "markdown",
   "id": "4d38e5db",
   "metadata": {},
   "source": [
    "### Goal: Menampilkan jumlah customer yang berhenti langganan (Churn Rate)"
   ]
  },
  {
   "cell_type": "code",
   "execution_count": 4,
   "id": "3620b608-299f-44f3-98c4-ab7a0ed12561",
   "metadata": {},
   "outputs": [],
   "source": [
    "import pandas as pd\n",
    "import matplotlib.pyplot as plt\n",
    "import seaborn as sns"
   ]
  },
  {
   "cell_type": "markdown",
   "id": "cbd22202",
   "metadata": {},
   "source": [
    "### Load Data\n",
    "#### Data berasal dari file dummy/fake data yang di generate menggunakan Python dengan Faker library"
   ]
  },
  {
   "cell_type": "code",
   "execution_count": 5,
   "id": "ea9c2cf9-7342-46a5-8d4b-e047e5f5bda2",
   "metadata": {},
   "outputs": [],
   "source": [
    "df = pd.read_csv('~/kode/python/mini_project/indosat_dashboard/data_pelanggan_indosat.csv')"
   ]
  },
  {
   "cell_type": "markdown",
   "id": "216edde1",
   "metadata": {},
   "source": [
    "### Tampilkan 5 baris data "
   ]
  },
  {
   "cell_type": "code",
   "execution_count": 6,
   "id": "38c81eaa-e06a-4056-b293-f1e3e1c3d54e",
   "metadata": {},
   "outputs": [
    {
     "data": {
      "text/html": [
       "<div>\n",
       "<style scoped>\n",
       "    .dataframe tbody tr th:only-of-type {\n",
       "        vertical-align: middle;\n",
       "    }\n",
       "\n",
       "    .dataframe tbody tr th {\n",
       "        vertical-align: top;\n",
       "    }\n",
       "\n",
       "    .dataframe thead th {\n",
       "        text-align: right;\n",
       "    }\n",
       "</style>\n",
       "<table border=\"1\" class=\"dataframe\">\n",
       "  <thead>\n",
       "    <tr style=\"text-align: right;\">\n",
       "      <th></th>\n",
       "      <th>Nama</th>\n",
       "      <th>No_HP</th>\n",
       "      <th>Kota</th>\n",
       "      <th>Paket</th>\n",
       "      <th>Tgl_beli</th>\n",
       "      <th>Durasi_Bulan</th>\n",
       "      <th>Frekuensi_Topup</th>\n",
       "      <th>Kuota_Bulan_GB</th>\n",
       "    </tr>\n",
       "  </thead>\n",
       "  <tbody>\n",
       "    <tr>\n",
       "      <th>0</th>\n",
       "      <td>Balidin Dongoran, S.T.</td>\n",
       "      <td>85799239640</td>\n",
       "      <td>Surabaya</td>\n",
       "      <td>Freedom Combo</td>\n",
       "      <td>2024-10-08</td>\n",
       "      <td>9</td>\n",
       "      <td>5</td>\n",
       "      <td>16</td>\n",
       "    </tr>\n",
       "    <tr>\n",
       "      <th>1</th>\n",
       "      <td>Okto Jailani</td>\n",
       "      <td>81478074443</td>\n",
       "      <td>Jakarta</td>\n",
       "      <td>Freedom Combo</td>\n",
       "      <td>2025-03-15</td>\n",
       "      <td>4</td>\n",
       "      <td>1</td>\n",
       "      <td>7</td>\n",
       "    </tr>\n",
       "    <tr>\n",
       "      <th>2</th>\n",
       "      <td>R. Lantar Anggraini</td>\n",
       "      <td>81462526817</td>\n",
       "      <td>Medan</td>\n",
       "      <td>Freedom Combo</td>\n",
       "      <td>2024-07-22</td>\n",
       "      <td>12</td>\n",
       "      <td>2</td>\n",
       "      <td>20</td>\n",
       "    </tr>\n",
       "    <tr>\n",
       "      <th>3</th>\n",
       "      <td>Darimin Pradipta</td>\n",
       "      <td>81443713796</td>\n",
       "      <td>Semarang</td>\n",
       "      <td>Unlimited 2GB</td>\n",
       "      <td>2025-01-11</td>\n",
       "      <td>2</td>\n",
       "      <td>3</td>\n",
       "      <td>5</td>\n",
       "    </tr>\n",
       "    <tr>\n",
       "      <th>4</th>\n",
       "      <td>Kanda Napitupulu</td>\n",
       "      <td>85669303428</td>\n",
       "      <td>Surabaya</td>\n",
       "      <td>Yellow</td>\n",
       "      <td>2025-03-30</td>\n",
       "      <td>12</td>\n",
       "      <td>1</td>\n",
       "      <td>1</td>\n",
       "    </tr>\n",
       "  </tbody>\n",
       "</table>\n",
       "</div>"
      ],
      "text/plain": [
       "                     Nama        No_HP      Kota          Paket    Tgl_beli  \\\n",
       "0  Balidin Dongoran, S.T.  85799239640  Surabaya  Freedom Combo  2024-10-08   \n",
       "1            Okto Jailani  81478074443   Jakarta  Freedom Combo  2025-03-15   \n",
       "2     R. Lantar Anggraini  81462526817     Medan  Freedom Combo  2024-07-22   \n",
       "3        Darimin Pradipta  81443713796  Semarang  Unlimited 2GB  2025-01-11   \n",
       "4        Kanda Napitupulu  85669303428  Surabaya         Yellow  2025-03-30   \n",
       "\n",
       "   Durasi_Bulan  Frekuensi_Topup  Kuota_Bulan_GB  \n",
       "0             9                5              16  \n",
       "1             4                1               7  \n",
       "2            12                2              20  \n",
       "3             2                3               5  \n",
       "4            12                1               1  "
      ]
     },
     "execution_count": 6,
     "metadata": {},
     "output_type": "execute_result"
    }
   ],
   "source": [
    "df.head()"
   ]
  },
  {
   "cell_type": "markdown",
   "id": "d62a3a3c",
   "metadata": {},
   "source": [
    "### Exploratory Data Analysis (EDA)"
   ]
  },
  {
   "cell_type": "markdown",
   "id": "24c8b239",
   "metadata": {},
   "source": [
    "#### Menampilkan Kota dengan jumlah pelanggan terbanyak"
   ]
  },
  {
   "cell_type": "code",
   "execution_count": 23,
   "id": "6b089fae",
   "metadata": {},
   "outputs": [
    {
     "name": "stdout",
     "output_type": "stream",
     "text": [
      "Jumlah pelanggan per kota: \n",
      "Kota\n",
      "Yogyakarta    37\n",
      "Bandung       33\n",
      "Semarang      30\n",
      "Makassar      30\n",
      "Surabaya      28\n",
      "Medan         21\n",
      "Jakarta       21\n",
      "Name: count, dtype: int64\n"
     ]
    }
   ],
   "source": [
    "pelanggan_per_kota = df['Kota'].value_counts()\n",
    "print('Jumlah pelanggan per kota: ')\n",
    "print(pelanggan_per_kota)"
   ]
  },
  {
   "cell_type": "markdown",
   "id": "e209a2fd",
   "metadata": {},
   "source": [
    "### Tampilkan grafik kota dengan jumlah pelanggan"
   ]
  },
  {
   "cell_type": "code",
   "execution_count": null,
   "id": "e47443aa",
   "metadata": {},
   "outputs": [
    {
     "data": {
      "image/png": "[encoded data removed]",
      "text/plain": [
       "<Figure size 800x600 with 1 Axes>"
      ]
     },
     "metadata": {},
     "output_type": "display_data"
    }
   ],
   "source": [
    "plt.figure(figsize=(8, 6))\n",
    "sns.histplot(data=df, x=df['Kota'])\n",
    "plt.show()"
   ]
  },
  {
   "cell_type": "markdown",
   "id": "c6f26d00",
   "metadata": {},
   "source": [
    "### Menghitung Churn Rate Customer\n",
    " Perhitungan customer yang berhenti menggunakan produk ditetapkan dengan\n",
    " menghitung Frekuensi_Topup kurang dari atau sama dengan 1 dalam waktu Durasi_Bulan\n",
    " minimal 3 bulan atau lebih"
   ]
  },
  {
   "cell_type": "code",
   "execution_count": 27,
   "id": "0536408e",
   "metadata": {},
   "outputs": [
    {
     "name": "stdout",
     "output_type": "stream",
     "text": [
      "Hasil Persentase Churn Rate Customer: 22.50%\n"
     ]
    }
   ],
   "source": [
    "# mengetahui churn rate\n",
    "# Frekuensi_Topup ≤ 1 dalam 3+ bulan → dianggap churn\n",
    "\n",
    "df['Churn'] = ((df['Frekuensi_Topup'] <= 1) & (df['Durasi_Bulan'] >= 3))\n",
    "\n",
    "# hitung churn\n",
    "churn_rate = df['Churn'].sum() / len(df) * 100\n",
    "print(f'Hasil Persentase Churn Rate Customer: {churn_rate:.2f}%')"
   ]
  },
  {
   "cell_type": "markdown",
   "id": "0c4257b9",
   "metadata": {},
   "source": [
    "### Menampilkan Persentase churn rate dengan pie chart"
   ]
  },
  {
   "cell_type": "code",
   "execution_count": 26,
   "id": "1af155eb",
   "metadata": {},
   "outputs": [
    {
     "name": "stderr",
     "output_type": "stream",
     "text": [
      "/tmp/ipykernel_246776/2569498633.py:4: FutureWarning: Series.__getitem__ treating keys as positions is deprecated. In a future version, integer keys will always be treated as labels (consistent with DataFrame behavior). To access a value by position, use `ser.iloc[pos]`\n",
      "  sizes = [churn_counts[0], churn_counts[1]]\n"
     ]
    },
    {
     "data": {
      "text/plain": [
       "(np.float64(-1.0999999375173872),\n",
       " np.float64(1.099999910848056),\n",
       " np.float64(-1.0999996168667543),\n",
       " np.float64(1.099994043164426))"
      ]
     },
     "execution_count": 26,
     "metadata": {},
     "output_type": "execute_result"
    },
    {
     "data": {
      "image/png": "[encoded data removed]",
      "text/plain": [
       "<Figure size 600x600 with 1 Axes>"
      ]
     },
     "metadata": {},
     "output_type": "display_data"
    }
   ],
   "source": [
    "# Buat pie chart churn vs aktif\n",
    "churn_counts = df['Churn'].value_counts()\n",
    "labels = ['Aktif', 'Churn']\n",
    "sizes = [churn_counts[0], churn_counts[1]]\n",
    "colors = ['#4CAF50', '#FF5733']\n",
    "\n",
    "plt.figure(figsize=(6, 6))\n",
    "plt.pie(sizes, labels=labels, autopct='%1.1f%%', startangle=140, colors=colors)\n",
    "plt.title('Distribusi Churn vs Aktif')\n",
    "plt.axis('equal')"
   ]
  }
 ],
 "metadata": {
  "kernelspec": {
   "display_name": "Python 3 (ipykernel)",
   "language": "python",
   "name": "python3"
  }
 },
 "nbformat": 4,
 "nbformat_minor": 5
}
